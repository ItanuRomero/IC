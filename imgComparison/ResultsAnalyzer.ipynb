{
 "cells": [
  {
   "cell_type": "code",
   "execution_count": 1,
   "id": "c460fa68",
   "metadata": {},
   "outputs": [],
   "source": [
    "import pandas as pd"
   ]
  },
  {
   "cell_type": "code",
   "execution_count": 105,
   "id": "fe269a80",
   "metadata": {},
   "outputs": [],
   "source": [
    "results = pd.read_csv(\"./result_data.csv\")"
   ]
  },
  {
   "cell_type": "code",
   "execution_count": 64,
   "id": "a7b3625f",
   "metadata": {},
   "outputs": [
    {
     "data": {
      "text/plain": [
       "[[4229, 4229, 4229],\n",
       " [4988, 4988, 4988],\n",
       " [0, 39014, 0],\n",
       " [603789, 350313, 282412],\n",
       " [418434, 309285, 409398],\n",
       " [264946, 251602, 457905],\n",
       " [0, 31309, 0],\n",
       " [3600, 3600, 3600],\n",
       " [0, 24769, 0]]"
      ]
     },
     "execution_count": 64,
     "metadata": {},
     "output_type": "execute_result"
    }
   ],
   "source": [
    "countNonZero = list()\n",
    "for CNZ in results.CountNonZero:\n",
    "    CNZ = CNZ.split(':')[1].strip()\n",
    "    CNZ = CNZ.replace('[', '').replace(']', '').split(',')\n",
    "    CNZ = [int(CNZ[0]), int(CNZ[1]), int(CNZ[2]),]\n",
    "    countNonZero.append(CNZ)\n",
    "countNonZero"
   ]
  },
  {
   "cell_type": "code",
   "execution_count": 62,
   "id": "04860fb1",
   "metadata": {},
   "outputs": [
    {
     "data": {
      "text/plain": [
       "[276, 290, 9, 0, 0, 6, 13, 263, 9]"
      ]
     },
     "execution_count": 62,
     "metadata": {},
     "output_type": "execute_result"
    }
   ],
   "source": [
    "goodMatches = list()\n",
    "for gM in results.GoodMatches:\n",
    "    gM = gM.split(':')[1].strip()\n",
    "    goodMatches.append(int(gM))\n",
    "goodMatches"
   ]
  },
  {
   "cell_type": "code",
   "execution_count": 63,
   "id": "73b7547b",
   "metadata": {},
   "outputs": [
    {
     "data": {
      "text/plain": [
       "[434, 434, 330, 476, 476, 476, 330, 434, 330]"
      ]
     },
     "execution_count": 63,
     "metadata": {},
     "output_type": "execute_result"
    }
   ],
   "source": [
    "matches = list()\n",
    "for m in results.Matches:\n",
    "    m = m.split(':')[1].strip()\n",
    "    matches.append(int(m))\n",
    "matches"
   ]
  },
  {
   "cell_type": "code",
   "execution_count": 91,
   "id": "bbaed475",
   "metadata": {},
   "outputs": [],
   "source": [
    "new_results = pd.DataFrame([countNonZero, goodMatches, macthes], ['CountNonZero', 'GoodMatches', 'Matches'], columns=[results.Names]).transpose()"
   ]
  },
  {
   "cell_type": "code",
   "execution_count": 104,
   "id": "8f4b5dac",
   "metadata": {},
   "outputs": [
    {
     "data": {
      "text/html": [
       "<div>\n",
       "<style scoped>\n",
       "    .dataframe tbody tr th:only-of-type {\n",
       "        vertical-align: middle;\n",
       "    }\n",
       "\n",
       "    .dataframe tbody tr th {\n",
       "        vertical-align: top;\n",
       "    }\n",
       "\n",
       "    .dataframe thead th {\n",
       "        text-align: right;\n",
       "    }\n",
       "</style>\n",
       "<table border=\"1\" class=\"dataframe\">\n",
       "  <thead>\n",
       "    <tr style=\"text-align: right;\">\n",
       "      <th></th>\n",
       "      <th>CountNonZero</th>\n",
       "      <th>GoodMatches</th>\n",
       "      <th>Matches</th>\n",
       "    </tr>\n",
       "    <tr>\n",
       "      <th>Names</th>\n",
       "      <th></th>\n",
       "      <th></th>\n",
       "      <th></th>\n",
       "    </tr>\n",
       "  </thead>\n",
       "  <tbody>\n",
       "    <tr>\n",
       "      <th>original.png and image japaneseDenim.png</th>\n",
       "      <td>[603789, 350313, 282412]</td>\n",
       "      <td>0</td>\n",
       "      <td>476</td>\n",
       "    </tr>\n",
       "    <tr>\n",
       "      <th>original.png and image live.png</th>\n",
       "      <td>[418434, 309285, 409398]</td>\n",
       "      <td>0</td>\n",
       "      <td>476</td>\n",
       "    </tr>\n",
       "    <tr>\n",
       "      <th>original.png and image remix.png</th>\n",
       "      <td>[264946, 251602, 457905]</td>\n",
       "      <td>6</td>\n",
       "      <td>476</td>\n",
       "    </tr>\n",
       "    <tr>\n",
       "      <th>yellow_original.png and image yellow_live.png</th>\n",
       "      <td>[4229, 4229, 4229]</td>\n",
       "      <td>276</td>\n",
       "      <td>434</td>\n",
       "    </tr>\n",
       "    <tr>\n",
       "      <th>yellow_original.png and image yellow_japaneseDenim.png</th>\n",
       "      <td>[4988, 4988, 4988]</td>\n",
       "      <td>290</td>\n",
       "      <td>434</td>\n",
       "    </tr>\n",
       "    <tr>\n",
       "      <th>yellow_original.png and image yellow_remix.png</th>\n",
       "      <td>[3600, 3600, 3600]</td>\n",
       "      <td>263</td>\n",
       "      <td>434</td>\n",
       "    </tr>\n",
       "    <tr>\n",
       "      <th>green_original.png and image green_japaneseDenim.png</th>\n",
       "      <td>[0, 39014, 0]</td>\n",
       "      <td>9</td>\n",
       "      <td>330</td>\n",
       "    </tr>\n",
       "    <tr>\n",
       "      <th>green_original.png and image green_live.png</th>\n",
       "      <td>[0, 31309, 0]</td>\n",
       "      <td>13</td>\n",
       "      <td>330</td>\n",
       "    </tr>\n",
       "    <tr>\n",
       "      <th>green_original.png and image green_remix.png</th>\n",
       "      <td>[0, 24769, 0]</td>\n",
       "      <td>9</td>\n",
       "      <td>330</td>\n",
       "    </tr>\n",
       "  </tbody>\n",
       "</table>\n",
       "</div>"
      ],
      "text/plain": [
       "                                                                CountNonZero  \\\n",
       "Names                                                                          \n",
       "original.png and image japaneseDenim.png            [603789, 350313, 282412]   \n",
       "original.png and image live.png                     [418434, 309285, 409398]   \n",
       "original.png and image remix.png                    [264946, 251602, 457905]   \n",
       "yellow_original.png and image yellow_live.png             [4229, 4229, 4229]   \n",
       "yellow_original.png and image yellow_japaneseDe...        [4988, 4988, 4988]   \n",
       "yellow_original.png and image yellow_remix.png            [3600, 3600, 3600]   \n",
       "green_original.png and image green_japaneseDeni...             [0, 39014, 0]   \n",
       "green_original.png and image green_live.png                    [0, 31309, 0]   \n",
       "green_original.png and image green_remix.png                   [0, 24769, 0]   \n",
       "\n",
       "                                                   GoodMatches Matches  \n",
       "Names                                                                   \n",
       "original.png and image japaneseDenim.png                     0     476  \n",
       "original.png and image live.png                              0     476  \n",
       "original.png and image remix.png                             6     476  \n",
       "yellow_original.png and image yellow_live.png              276     434  \n",
       "yellow_original.png and image yellow_japaneseDe...         290     434  \n",
       "yellow_original.png and image yellow_remix.png             263     434  \n",
       "green_original.png and image green_japaneseDeni...           9     330  \n",
       "green_original.png and image green_live.png                 13     330  \n",
       "green_original.png and image green_remix.png                 9     330  "
      ]
     },
     "execution_count": 104,
     "metadata": {},
     "output_type": "execute_result"
    }
   ],
   "source": [
    "new_results.sort_values('Matches', ascending=False)"
   ]
  }
 ],
 "metadata": {
  "kernelspec": {
   "display_name": "Python 3 (ipykernel)",
   "language": "python",
   "name": "python3"
  },
  "language_info": {
   "codemirror_mode": {
    "name": "ipython",
    "version": 3
   },
   "file_extension": ".py",
   "mimetype": "text/x-python",
   "name": "python",
   "nbconvert_exporter": "python",
   "pygments_lexer": "ipython3",
   "version": "3.8.6"
  }
 },
 "nbformat": 4,
 "nbformat_minor": 5
}
