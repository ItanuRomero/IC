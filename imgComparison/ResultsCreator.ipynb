{
 "cells": [
  {
   "cell_type": "code",
   "execution_count": 68,
   "id": "e5932e73",
   "metadata": {},
   "outputs": [],
   "source": [
    "import csv"
   ]
  },
  {
   "cell_type": "code",
   "execution_count": 69,
   "id": "614d60bf",
   "metadata": {},
   "outputs": [],
   "source": [
    "def is_empty(filename='results.csv'):\n",
    "    with open(filename, 'r') as results_csv:\n",
    "        csv_dict = [row for row in csv.DictReader(results_csv)]\n",
    "        if len(csv_dict) == 0:\n",
    "            write_file_head()"
   ]
  },
  {
   "cell_type": "code",
   "execution_count": 70,
   "id": "3b67e8dd",
   "metadata": {},
   "outputs": [],
   "source": [
    "def write_file_head():\n",
    "    with open('results.csv', 'w') as results_csv:\n",
    "        writer = csv.writer(results_csv)\n",
    "        writer.writerow(['Names', 'AreEqual', 'CountNonZero', 'GoodMatches', 'Matches'])"
   ]
  },
  {
   "cell_type": "code",
   "execution_count": 74,
   "id": "3fcea829",
   "metadata": {},
   "outputs": [],
   "source": [
    "def write_results(data=[None, None, None, None, None]):\n",
    "    with open('results.csv', 'a') as results_csv:\n",
    "        writer = csv.writer(results_csv)\n",
    "        writer.writerow(data)"
   ]
  },
  {
   "cell_type": "code",
   "execution_count": 73,
   "id": "c8f34617",
   "metadata": {},
   "outputs": [],
   "source": [
    "is_empty()\n",
    "write_results(['just now', True, [6546,654,654], 657, 6578])"
   ]
  }
 ],
 "metadata": {
  "kernelspec": {
   "display_name": "Python 3 (ipykernel)",
   "language": "python",
   "name": "python3"
  },
  "language_info": {
   "codemirror_mode": {
    "name": "ipython",
    "version": 3
   },
   "file_extension": ".py",
   "mimetype": "text/x-python",
   "name": "python",
   "nbconvert_exporter": "python",
   "pygments_lexer": "ipython3",
   "version": "3.8.6"
  }
 },
 "nbformat": 4,
 "nbformat_minor": 5
}
